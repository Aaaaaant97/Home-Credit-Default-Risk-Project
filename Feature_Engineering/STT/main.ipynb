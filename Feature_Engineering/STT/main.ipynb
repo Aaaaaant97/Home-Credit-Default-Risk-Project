{
 "cells": [
  {
   "cell_type": "markdown",
   "id": "0d4c04c3-52fb-4a7a-9548-8cb60c1f1f6e",
   "metadata": {},
   "source": [
    "The main function calls feature engineering to validate features using a single model"
   ]
  },
  {
   "cell_type": "code",
   "execution_count": null,
   "id": "991c3690-9047-49d0-b5f6-9da13d3efb44",
   "metadata": {},
   "outputs": [],
   "source": [
    "import numpy as np\n",
    "import pandas as pd \n",
    "# Suppress warnings \n",
    "import warnings\n",
    "warnings.filterwarnings('ignore')\n",
    "\n",
    "import matplotlib.pyplot as plt\n",
    "import seaborn as sns\n",
    "\n",
    "from utils import model\n",
    "from feature_engineering import feature_engineering_v1, feature_engineering_v2, \\\n",
    "    feature_engineering_v3, feature_engineering_v4,feature_engineering_v5, feature_engineering_v6, \\\n",
    "    feature_engineering_v7\n",
    "\n",
    "# read data\n",
    "app_train = pd.read_csv('application_train.csv')\n",
    "app_test = pd.read_csv('application_test.csv')\n",
    "\n",
    "# different feature_engineering\n",
    "app_train, app_test = feature_engineering_v7(app_train, app_test)\n",
    "\n",
    "# model train\n",
    "submission, fi, metrics = model(app_train, app_test)\n",
    "\n",
    "# print and save result\n",
    "print('Baseline metrics')\n",
    "print(metrics)\n",
    "submission.to_csv('baseline_lgb.csv', index = False)"
   ]
  }
 ],
 "metadata": {
  "kernelspec": {
   "display_name": "Python 3 (ipykernel)",
   "language": "python",
   "name": "python3"
  },
  "language_info": {
   "codemirror_mode": {
    "name": "ipython",
    "version": 3
   },
   "file_extension": ".py",
   "mimetype": "text/x-python",
   "name": "python",
   "nbconvert_exporter": "python",
   "pygments_lexer": "ipython3",
   "version": "3.11.0"
  }
 },
 "nbformat": 4,
 "nbformat_minor": 5
}
