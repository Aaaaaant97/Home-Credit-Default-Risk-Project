{
 "cells": [
  {
   "cell_type": "markdown",
   "id": "eb431622-5c6c-4792-8864-593ff8cc88c3",
   "metadata": {},
   "source": [
    "The user profiling and feature analysis based on tools"
   ]
  },
  {
   "cell_type": "code",
   "execution_count": null,
   "id": "41b69b50-135f-42bb-b3cb-e744d6a647e6",
   "metadata": {},
   "outputs": [],
   "source": [
    "import numpy as np\n",
    "import pandas as pd \n",
    "# Suppress warnings \n",
    "import warnings\n",
    "warnings.filterwarnings('ignore')\n",
    "\n",
    "import matplotlib.pyplot as plt\n",
    "import seaborn as sns\n",
    "from utils import plot_stats, plot_bin, plot_corr, plot_distribution\n",
    "\n",
    "from feature_engineering import feature_engineering_v7\n",
    "\n",
    "app_train = pd.read_csv('dataset/application_train.csv')\n",
    "app_test = pd.read_csv('dataset/application_test.csv')\n",
    "\n",
    "# Calculate all features\n",
    "app_train, app_test, cat_indices = feature_engineering_v7(app_train, app_test)\n",
    "\n",
    "# User Profile Drawing\n",
    "feature_list = ['CODE_GENDER', 'NAME_CONTRACT_TYPE', \n",
    "                'FLAG_OWN_CAR', 'FLAG_OWN_REALTY',\n",
    "                'NAME_FAMILY_STATUS', \n",
    "                'CNT_CHILDREN','NAME_INCOME_TYPE', \n",
    "                'OCCUPATION_TYPE', 'NAME_EDUCATION_TYPE']\n",
    "for feature in feature_list:\n",
    "    plot_stats(app_train, feature)\n",
    "\n",
    "# Analysis of Age\n",
    "age_data=app_train[['TARGET', 'DAYS_BIRTH']]\n",
    "age_data['YEARS_BIRTH']=age_data['DAYS_BIRTH']/-365\n",
    "feature_list_1 = ['YEARS_BIRTH']\n",
    "plot_bin(app_train, feature_list_1)\n",
    "\n",
    "# New feature analysis\n",
    "feature_list_2 = ['CREDIT_TO_INCOME', 'ANNUITY_TO_INCOME', 'PAYMENT_BURDEN_MONTHLY', \n",
    "                    'GOODS_TO_INCOME', 'ANNUITY_TO_CREDIT', 'TERM_MONTHS_EST', \n",
    "                    'CREDIT_TO_GOODS','INCOME_PER_PERSON']\n",
    "\n",
    "feature_list_3 = ['EMPLOY_TO_AGE', 'OWN_CAR_AGE_NORM', 'CHILDREN_PER_10Y']\n",
    "\n",
    "feature_list_4 = ['REGION_RATING_DIFF', 'ADDR_MISMATCH_SUM']\n",
    "\n",
    "feature_list_5 = ['EXT_MEAN', 'EXT_STD', 'EXT_MIN', 'EXT_MAX', 'EXT_MEAN_X_AGE', 'EXT_MEAN_X_LOG_INCOME', 'EXT_MISSING_CNT']\n",
    "\n",
    "feature_list_6 = ['DOCS_SUBMITTED_CNT', 'DOCS_ANY', 'CONTACT_FLAGS_SUM']\n",
    "\n",
    "for obj in feature_list_2:\n",
    "    plot_stats(app_train, obj)\n",
    "\n",
    "# Draw a feature distribution map\n",
    "plot_distribution(app_train, feature_list_2)\n",
    "# Draw a heatmap of the correlation coefficient between features and TARGET\n",
    "plot_corr(app_train, feature_list_2)"
   ]
  }
 ],
 "metadata": {
  "kernelspec": {
   "display_name": "Python 3 (ipykernel)",
   "language": "python",
   "name": "python3"
  },
  "language_info": {
   "codemirror_mode": {
    "name": "ipython",
    "version": 3
   },
   "file_extension": ".py",
   "mimetype": "text/x-python",
   "name": "python",
   "nbconvert_exporter": "python",
   "pygments_lexer": "ipython3",
   "version": "3.11.0"
  }
 },
 "nbformat": 4,
 "nbformat_minor": 5
}
