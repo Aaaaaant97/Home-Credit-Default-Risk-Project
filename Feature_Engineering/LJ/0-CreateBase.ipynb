{
 "cells": [
  {
   "cell_type": "code",
   "execution_count": 1,
   "id": "460aaa97",
   "metadata": {},
   "outputs": [
    {
     "name": "stdout",
     "output_type": "stream",
     "text": [
      "Train base shape: (307511, 1)\n",
      "Test  base shape: (48744, 1)\n",
      "   SK_ID_CURR\n",
      "0      100002\n",
      "1      100003\n",
      "2      100004\n",
      "3      100006\n",
      "4      100007\n",
      "✅ Saved base_train_ids.csv and base_test_ids.csv\n"
     ]
    }
   ],
   "source": [
    "import os\n",
    "import pandas as pd\n",
    "# 1️⃣ 读取主表\n",
    "\n",
    "test_path  = os.path.join(\"/Users/revelyn/Codefild/kaggle/data/application_test.csv\")\n",
    "train_path = os.path.join(\"/Users/revelyn/Codefild/kaggle/data/application_train.csv\")\n",
    "\n",
    "train = pd.read_csv(train_path)\n",
    "test  = pd.read_csv(test_path)\n",
    "\n",
    "base_train = train[[\"SK_ID_CURR\"]].drop_duplicates().reset_index(drop=True)\n",
    "base_test  = test[[\"SK_ID_CURR\"]].drop_duplicates().reset_index(drop=True)\n",
    "\n",
    "# 4️⃣ 查看结果\n",
    "print(\"Train base shape:\", base_train.shape)\n",
    "print(\"Test  base shape:\", base_test.shape)\n",
    "print(base_train.head())\n",
    "\n",
    "# 5️保存下来以备后续合并特征时使用\n",
    "base_train.to_csv(\"base_train_ids.csv\", index=False)\n",
    "base_test.to_csv(\"base_test_ids.csv\", index=False)\n",
    "print(\"✅ Saved base_train_ids.csv and base_test_ids.csv\")\n"
   ]
  },
  {
   "cell_type": "markdown",
   "id": "2abfb8ce",
   "metadata": {},
   "source": [
    "***"
   ]
  },
  {
   "cell_type": "markdown",
   "id": "aa11db82",
   "metadata": {},
   "source": []
  },
  {
   "cell_type": "code",
   "execution_count": null,
   "id": "73364e05",
   "metadata": {},
   "outputs": [],
   "source": []
  }
 ],
 "metadata": {
  "kernelspec": {
   "display_name": "course_env",
   "language": "python",
   "name": "python3"
  },
  "language_info": {
   "codemirror_mode": {
    "name": "ipython",
    "version": 3
   },
   "file_extension": ".py",
   "mimetype": "text/x-python",
   "name": "python",
   "nbconvert_exporter": "python",
   "pygments_lexer": "ipython3",
   "version": "3.10.18"
  }
 },
 "nbformat": 4,
 "nbformat_minor": 5
}
