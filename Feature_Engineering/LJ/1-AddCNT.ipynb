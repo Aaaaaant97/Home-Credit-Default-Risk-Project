{
 "cells": [
  {
   "cell_type": "markdown",
   "id": "2d591cd8",
   "metadata": {},
   "source": []
  },
  {
   "cell_type": "markdown",
   "id": "83ae972f",
   "metadata": {},
   "source": [
    "根据根据 AMT_CREDIT、AMT_ANNUITY、TERM 自动解出真实利率,保存到之前建立的base里面"
   ]
  },
  {
   "cell_type": "code",
   "execution_count": null,
   "id": "68f4d3c9",
   "metadata": {},
   "outputs": [
    {
     "name": "stdout",
     "output_type": "stream",
     "text": [
      "✅ base_train_ids.csv shape: (307511, 7)\n",
      "✅ base_test_ids.csv  shape: (48744, 7)\n",
      "   SK_ID_CURR  TERM  INTEREST_RATE  rate_goods  lgbm_CNT  rate_credit  \\\n",
      "0      100002    16  -3.323151e-03    0.062413        36     0.050405   \n",
      "1      100003    36  -3.499234e-04    0.023980        60     0.018303   \n",
      "2      100004    20  -2.220446e-16         NaN         0          NaN   \n",
      "3      100006    11   7.303904e-03    0.029153        12     0.020657   \n",
      "4      100007    23  -1.649606e-03    0.025260        36     0.025260   \n",
      "\n",
      "   certainty  \n",
      "0   0.753658  \n",
      "1   0.998557  \n",
      "2   0.999893  \n",
      "3   0.997347  \n",
      "4   0.850818  \n"
     ]
    }
   ],
   "source": [
    "import os\n",
    "import pandas as pd\n",
    "import numpy as np\n",
    "from numpy_financial import irr  # 如果没有这个库，可以 pip install numpy-financial\n",
    "\n",
    "# 路径\n",
    "train_app = pd.read_csv(\"../data/application_train.csv\")\n",
    "test_app  = pd.read_csv(\"../data/application_test.csv\")\n",
    "\n",
    "train_lgbm = pd.read_csv(\"../generated_feature/lgmb_CNT/lgbm_CNT_train.csv\")\n",
    "test_lgbm  = pd.read_csv(\"../generated_feature/lgmb_CNT/lgbm_CNT_test.csv\")\n",
    "\n",
    "base_train = pd.read_csv(\"../view data/base_train_ids.csv\")\n",
    "base_test  = pd.read_csv(\"../view data/base_test_ids.csv\")\n",
    "\n",
    "\n",
    "# ========== 构造核心特征 ==========\n",
    "def compute_features(df):\n",
    "    # 期数 term\n",
    "    df[\"TERM\"] = (df[\"AMT_CREDIT\"] / df[\"AMT_ANNUITY\"]).round().fillna(0).astype(int)\n",
    "    \n",
    "    # 真实利率 interest_rate，用 IRR 近似\n",
    "    def calc_rate(row):\n",
    "        credit = row[\"AMT_CREDIT\"]\n",
    "        annuity = row[\"AMT_ANNUITY\"]\n",
    "        term = row[\"TERM\"]\n",
    "        if term <= 0 or pd.isna(credit) or pd.isna(annuity) or annuity <= 0:\n",
    "            return np.nan\n",
    "        # 现金流：借入 credit（负数），还 term 次 annuity（正数）\n",
    "        cashflows = [-credit] + [annuity] * term\n",
    "        try:\n",
    "            return irr(cashflows)\n",
    "        except Exception:\n",
    "            return np.nan\n",
    "\n",
    "    df[\"INTEREST_RATE\"] = df.apply(calc_rate, axis=1)\n",
    "    return df[[\"SK_ID_CURR\", \"TERM\", \"INTEREST_RATE\"]]\n",
    "\n",
    "train_feat = compute_features(train_app)\n",
    "test_feat  = compute_features(test_app)\n",
    "\n",
    "# ========== 合并 lgbm_CNT ==========\n",
    "train_feat = train_feat.merge(train_lgbm, on=\"SK_ID_CURR\", how=\"left\")\n",
    "test_feat  = test_feat.merge(test_lgbm, on=\"SK_ID_CURR\", how=\"left\")\n",
    "\n",
    "# ========== 加到 base 文件 ==========\n",
    "base_train = base_train.merge(train_feat, on=\"SK_ID_CURR\", how=\"left\")\n",
    "base_test  = base_test.merge(test_feat, on=\"SK_ID_CURR\", how=\"left\")\n",
    "\n",
    "\n"
   ]
  },
  {
   "cell_type": "code",
   "execution_count": 5,
   "id": "73b71a04",
   "metadata": {},
   "outputs": [
    {
     "name": "stdout",
     "output_type": "stream",
     "text": [
      "✅ base_train_ids.csv shape: (307511, 7)\n",
      "✅ base_test_ids.csv  shape: (48744, 7)\n",
      "   SK_ID_CURR  TERM  INTEREST_RATE  rate_goods  lgbm_CNT  rate_credit  \\\n",
      "0      100002    16  -3.323151e-03    0.062413        36     0.050405   \n",
      "1      100003    36  -3.499234e-04    0.023980        60     0.018303   \n",
      "2      100004    20  -2.220446e-16         NaN         0          NaN   \n",
      "3      100006    11   7.303904e-03    0.029153        12     0.020657   \n",
      "4      100007    23  -1.649606e-03    0.025260        36     0.025260   \n",
      "\n",
      "   certainty  \n",
      "0   0.753658  \n",
      "1   0.998557  \n",
      "2   0.999893  \n",
      "3   0.997347  \n",
      "4   0.850818  \n"
     ]
    }
   ],
   "source": [
    "# 保存\n",
    "base_train.to_csv(\"../view data/CNT_train_ids.csv\", index=False)\n",
    "base_test.to_csv(\"../view data/CNT_test_ids.csv\", index=False)\n",
    "\n",
    "print(\"✅ base_train_ids.csv shape:\", base_train.shape)\n",
    "print(\"✅ base_test_ids.csv  shape:\", base_test.shape)\n",
    "\n",
    "print(base_train.head())"
   ]
  },
  {
   "cell_type": "code",
   "execution_count": 6,
   "id": "eb6d7b2a",
   "metadata": {},
   "outputs": [
    {
     "name": "stdout",
     "output_type": "stream",
     "text": [
      "(307511, 7)\n",
      "(48744, 7)\n"
     ]
    }
   ],
   "source": [
    "print(base_train.shape)\n",
    "print(base_test.shape)"
   ]
  }
 ],
 "metadata": {
  "kernelspec": {
   "display_name": "course_env",
   "language": "python",
   "name": "python3"
  },
  "language_info": {
   "codemirror_mode": {
    "name": "ipython",
    "version": 3
   },
   "file_extension": ".py",
   "mimetype": "text/x-python",
   "name": "python",
   "nbconvert_exporter": "python",
   "pygments_lexer": "ipython3",
   "version": "3.10.18"
  }
 },
 "nbformat": 4,
 "nbformat_minor": 5
}
